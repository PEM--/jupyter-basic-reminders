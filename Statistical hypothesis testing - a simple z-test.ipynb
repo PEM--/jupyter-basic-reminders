{
 "cells": [
  {
   "cell_type": "markdown",
   "metadata": {},
   "source": [
    "Here, we flip a coin $n$ times and we observe $h$ heads.\n",
    "We want to know whether the coin is fair (**null hypothesis**).\n",
    "\n",
    "We note $B(q)$, the [Bernouilli distribution](https://en.wikipedia.org/wiki/Bernoulli_distribution),\n",
    "with $q$ as the unknown parameter.\n",
    "\n",
    "$X$ is a random variable (a Bernouilli variable) such that:\n",
    "* 0 (tail): $Pr(X=0) = 1 - q$\n",
    "* 1 (head): $Pr(X=1) = q$\n",
    "\n",
    "**Step 1**\n",
    "\n",
    "For $n=100$ independent coin flips (or random variables),\n",
    "such as $x_i\\in\\{0,1\\}$, we get $h=61$ heads.\n",
    "\n",
    "We choose a significance level of 0.05: is the coin fair or not?\n",
    "Our null hypothesis is: the coin is fair ($q=1/2$).\n",
    "\n",
    "We set these variables:"
   ]
  },
  {
   "cell_type": "code",
   "execution_count": 3,
   "metadata": {},
   "outputs": [],
   "source": [
    "import numpy as np\n",
    "import scipy.stats as st\n",
    "import scipy.special as sp\n",
    "n = 100  # number of coin flips\n",
    "h = 61  # number of heads\n",
    "q = .5  # null-hypothesis of fair coin"
   ]
  },
  {
   "cell_type": "markdown",
   "metadata": {},
   "source": [
    "**Step 2**\n",
    "\n",
    "The $\\bar{x}$ sample mean (proportion of heads), noted `xbar` is the estimaged average of the distribution:\n",
    "\n",
    "$$\\bar{x}=\\frac 1 n \\sum_{i} x_i$$"
   ]
  },
  {
   "cell_type": "code",
   "execution_count": 4,
   "metadata": {},
   "outputs": [],
   "source": [
    "xbar = h / n"
   ]
  },
  {
   "cell_type": "markdown",
   "metadata": {},
   "source": [
    "The $z-score$, noted `z` is defined by the following formula:"
   ]
  },
  {
   "cell_type": "code",
   "execution_count": 5,
   "metadata": {},
   "outputs": [
    {
     "data": {
      "text/plain": [
       "2.2"
      ]
     },
     "execution_count": 5,
     "metadata": {},
     "output_type": "execute_result"
    }
   ],
   "source": [
    "z = (xbar - q) * np.sqrt(n / (q * (1 - q)))\n",
    "round(z, 4)"
   ]
  },
  {
   "cell_type": "code",
   "execution_count": null,
   "metadata": {},
   "outputs": [],
   "source": []
  }
 ],
 "metadata": {
  "kernelspec": {
   "display_name": "Python 3",
   "language": "python",
   "name": "python3"
  },
  "language_info": {
   "codemirror_mode": {
    "name": "ipython",
    "version": 3
   },
   "file_extension": ".py",
   "mimetype": "text/x-python",
   "name": "python",
   "nbconvert_exporter": "python",
   "pygments_lexer": "ipython3",
   "version": "3.6.5"
  }
 },
 "nbformat": 4,
 "nbformat_minor": 2
}
